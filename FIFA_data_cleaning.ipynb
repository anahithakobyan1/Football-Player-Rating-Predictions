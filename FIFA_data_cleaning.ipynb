{
 "cells": [
  {
   "cell_type": "markdown",
   "metadata": {},
   "source": [
    "## Data Cleaning & Manipulations"
   ]
  },
  {
   "cell_type": "code",
   "execution_count": 1,
   "metadata": {},
   "outputs": [
    {
     "name": "stderr",
     "output_type": "stream",
     "text": [
      "/Users/anahithakobyan/opt/anaconda3/lib/python3.8/site-packages/pandas/core/computation/expressions.py:20: UserWarning: Pandas requires version '2.7.3' or newer of 'numexpr' (version '2.7.1' currently installed).\n",
      "  from pandas.core.computation.check import NUMEXPR_INSTALLED\n"
     ]
    }
   ],
   "source": [
    "import numpy as np\n",
    "import pandas as pd\n",
    "import tempfile\n",
    "from math import sqrt\n",
    "import scipy.stats\n",
    "import sys\n",
    "import matplotlib.pyplot as plt\n",
    "import seaborn as sns\n",
    "import plotly.graph_objects as go\n",
    "import plotly.express as px\n",
    "from sklearn import preprocessing\n",
    "from sklearn.model_selection import train_test_split\n",
    "from sklearn.tree import plot_tree\n",
    "import xgboost as xgb\n",
    "from sklearn.metrics import r2_score, mean_absolute_error, mean_squared_error\n",
    "from sklearn.impute import SimpleImputer\n",
    "from sklearn.experimental import enable_iterative_imputer\n",
    "from sklearn.impute import IterativeImputer\n",
    "from sklearn.preprocessing import StandardScaler, OneHotEncoder\n",
    "from sklearn.compose import ColumnTransformer\n",
    "import statsmodels.api as sm"
   ]
  },
  {
   "cell_type": "code",
   "execution_count": 4,
   "metadata": {},
   "outputs": [
    {
     "name": "stderr",
     "output_type": "stream",
     "text": [
      "<ipython-input-4-47cd2b102134>:1: DtypeWarning: Columns (25,108) have mixed types. Specify dtype option on import or set low_memory=False.\n",
      "  df = pd.read_csv('players_22.csv')\n"
     ]
    }
   ],
   "source": [
    "df = pd.read_csv('players_22.csv')"
   ]
  },
  {
   "cell_type": "code",
   "execution_count": 44,
   "metadata": {},
   "outputs": [
    {
     "data": {
      "text/plain": [
       "(19239, 110)"
      ]
     },
     "execution_count": 44,
     "metadata": {},
     "output_type": "execute_result"
    }
   ],
   "source": [
    "df.shape"
   ]
  },
  {
   "cell_type": "code",
   "execution_count": 45,
   "metadata": {},
   "outputs": [],
   "source": [
    "df = df.iloc[:, :-33]"
   ]
  },
  {
   "cell_type": "code",
   "execution_count": 46,
   "metadata": {},
   "outputs": [
    {
     "name": "stdout",
     "output_type": "stream",
     "text": [
      "<class 'pandas.core.frame.DataFrame'>\n",
      "RangeIndex: 19239 entries, 0 to 19238\n",
      "Data columns (total 77 columns):\n",
      " #   Column                       Non-Null Count  Dtype  \n",
      "---  ------                       --------------  -----  \n",
      " 0   sofifa_id                    19239 non-null  int64  \n",
      " 1   player_url                   19239 non-null  object \n",
      " 2   short_name                   19239 non-null  object \n",
      " 3   long_name                    19239 non-null  object \n",
      " 4   player_positions             19239 non-null  object \n",
      " 5   overall                      19239 non-null  int64  \n",
      " 6   potential                    19239 non-null  int64  \n",
      " 7   value_eur                    19165 non-null  float64\n",
      " 8   wage_eur                     19178 non-null  float64\n",
      " 9   age                          19239 non-null  int64  \n",
      " 10  dob                          19239 non-null  object \n",
      " 11  height_cm                    19239 non-null  int64  \n",
      " 12  weight_kg                    19239 non-null  int64  \n",
      " 13  club_team_id                 19178 non-null  float64\n",
      " 14  club_name                    19178 non-null  object \n",
      " 15  league_name                  19178 non-null  object \n",
      " 16  league_level                 19178 non-null  float64\n",
      " 17  club_position                19178 non-null  object \n",
      " 18  club_jersey_number           19178 non-null  float64\n",
      " 19  club_loaned_from             1102 non-null   object \n",
      " 20  club_joined                  18076 non-null  object \n",
      " 21  club_contract_valid_until    19178 non-null  float64\n",
      " 22  nationality_id               19239 non-null  int64  \n",
      " 23  nationality_name             19239 non-null  object \n",
      " 24  nation_team_id               759 non-null    float64\n",
      " 25  nation_position              759 non-null    object \n",
      " 26  nation_jersey_number         759 non-null    float64\n",
      " 27  preferred_foot               19239 non-null  object \n",
      " 28  weak_foot                    19239 non-null  int64  \n",
      " 29  skill_moves                  19239 non-null  int64  \n",
      " 30  international_reputation     19239 non-null  int64  \n",
      " 31  work_rate                    19239 non-null  object \n",
      " 32  body_type                    19239 non-null  object \n",
      " 33  real_face                    19239 non-null  object \n",
      " 34  release_clause_eur           18063 non-null  float64\n",
      " 35  player_tags                  1441 non-null   object \n",
      " 36  player_traits                9398 non-null   object \n",
      " 37  pace                         17107 non-null  float64\n",
      " 38  shooting                     17107 non-null  float64\n",
      " 39  passing                      17107 non-null  float64\n",
      " 40  dribbling                    17107 non-null  float64\n",
      " 41  defending                    17107 non-null  float64\n",
      " 42  physic                       17107 non-null  float64\n",
      " 43  attacking_crossing           19239 non-null  int64  \n",
      " 44  attacking_finishing          19239 non-null  int64  \n",
      " 45  attacking_heading_accuracy   19239 non-null  int64  \n",
      " 46  attacking_short_passing      19239 non-null  int64  \n",
      " 47  attacking_volleys            19239 non-null  int64  \n",
      " 48  skill_dribbling              19239 non-null  int64  \n",
      " 49  skill_curve                  19239 non-null  int64  \n",
      " 50  skill_fk_accuracy            19239 non-null  int64  \n",
      " 51  skill_long_passing           19239 non-null  int64  \n",
      " 52  skill_ball_control           19239 non-null  int64  \n",
      " 53  movement_acceleration        19239 non-null  int64  \n",
      " 54  movement_sprint_speed        19239 non-null  int64  \n",
      " 55  movement_agility             19239 non-null  int64  \n",
      " 56  movement_reactions           19239 non-null  int64  \n",
      " 57  movement_balance             19239 non-null  int64  \n",
      " 58  power_shot_power             19239 non-null  int64  \n",
      " 59  power_jumping                19239 non-null  int64  \n",
      " 60  power_stamina                19239 non-null  int64  \n",
      " 61  power_strength               19239 non-null  int64  \n",
      " 62  power_long_shots             19239 non-null  int64  \n",
      " 63  mentality_aggression         19239 non-null  int64  \n",
      " 64  mentality_interceptions      19239 non-null  int64  \n",
      " 65  mentality_positioning        19239 non-null  int64  \n",
      " 66  mentality_vision             19239 non-null  int64  \n",
      " 67  mentality_penalties          19239 non-null  int64  \n",
      " 68  mentality_composure          19239 non-null  int64  \n",
      " 69  defending_marking_awareness  19239 non-null  int64  \n",
      " 70  defending_standing_tackle    19239 non-null  int64  \n",
      " 71  defending_sliding_tackle     19239 non-null  int64  \n",
      " 72  goalkeeping_diving           19239 non-null  int64  \n",
      " 73  goalkeeping_handling         19239 non-null  int64  \n",
      " 74  goalkeeping_kicking          19239 non-null  int64  \n",
      " 75  goalkeeping_positioning      19239 non-null  int64  \n",
      " 76  goalkeeping_reflexes         19239 non-null  int64  \n",
      "dtypes: float64(15), int64(44), object(18)\n",
      "memory usage: 11.3+ MB\n"
     ]
    }
   ],
   "source": [
    "df.info()"
   ]
  },
  {
   "cell_type": "code",
   "execution_count": 48,
   "metadata": {},
   "outputs": [],
   "source": [
    "num_imputer = SimpleImputer(strategy='mean')  # or strategy='median'\n",
    "df['value_eur'] = num_imputer.fit_transform(df[['value_eur']])\n",
    "df['wage_eur'] = num_imputer.fit_transform(df[['wage_eur']])"
   ]
  },
  {
   "cell_type": "code",
   "execution_count": 49,
   "metadata": {},
   "outputs": [],
   "source": [
    "#Drop\n",
    "to_drop = ['club_team_id',\n",
    "'club_name',\n",
    "'league_name',\n",
    "'league_level',\n",
    "'club_position',\n",
    "'club_jersey_number',\n",
    "'club_loaned_from',\n",
    "'club_joined',\n",
    "'club_contract_valid_until',\n",
    "'nation_team_id',\n",
    "'nation_position',\n",
    "'nation_jersey_number',\n",
    "'release_clause_eur',\n",
    "'player_tags',\n",
    "'player_traits',\n",
    "          'player_positions']"
   ]
  },
  {
   "cell_type": "code",
   "execution_count": 50,
   "metadata": {},
   "outputs": [],
   "source": [
    "#Mean\n",
    "df['pace'] = num_imputer.fit_transform(df[['pace']])\n",
    "df['shooting'] = num_imputer.fit_transform(df[['shooting']])\n",
    "df['passing'] = num_imputer.fit_transform(df[['passing']])\n",
    "df['defending'] = num_imputer.fit_transform(df[['defending']])\n",
    "df['dribbling'] = num_imputer.fit_transform(df[['dribbling']])\n",
    "df['physic'] = num_imputer.fit_transform(df[['physic']])"
   ]
  },
  {
   "cell_type": "markdown",
   "metadata": {},
   "source": [
    "### Handling missing values"
   ]
  },
  {
   "cell_type": "code",
   "execution_count": 51,
   "metadata": {},
   "outputs": [],
   "source": [
    "df = df.drop(columns=to_drop)"
   ]
  },
  {
   "cell_type": "code",
   "execution_count": 52,
   "metadata": {},
   "outputs": [
    {
     "name": "stdout",
     "output_type": "stream",
     "text": [
      "<class 'pandas.core.frame.DataFrame'>\n",
      "RangeIndex: 19239 entries, 0 to 19238\n",
      "Data columns (total 61 columns):\n",
      " #   Column                       Non-Null Count  Dtype  \n",
      "---  ------                       --------------  -----  \n",
      " 0   sofifa_id                    19239 non-null  int64  \n",
      " 1   player_url                   19239 non-null  object \n",
      " 2   short_name                   19239 non-null  object \n",
      " 3   long_name                    19239 non-null  object \n",
      " 4   overall                      19239 non-null  int64  \n",
      " 5   potential                    19239 non-null  int64  \n",
      " 6   value_eur                    19239 non-null  float64\n",
      " 7   wage_eur                     19239 non-null  float64\n",
      " 8   age                          19239 non-null  int64  \n",
      " 9   dob                          19239 non-null  object \n",
      " 10  height_cm                    19239 non-null  int64  \n",
      " 11  weight_kg                    19239 non-null  int64  \n",
      " 12  nationality_id               19239 non-null  int64  \n",
      " 13  nationality_name             19239 non-null  object \n",
      " 14  preferred_foot               19239 non-null  object \n",
      " 15  weak_foot                    19239 non-null  int64  \n",
      " 16  skill_moves                  19239 non-null  int64  \n",
      " 17  international_reputation     19239 non-null  int64  \n",
      " 18  work_rate                    19239 non-null  object \n",
      " 19  body_type                    19239 non-null  object \n",
      " 20  real_face                    19239 non-null  object \n",
      " 21  pace                         19239 non-null  float64\n",
      " 22  shooting                     19239 non-null  float64\n",
      " 23  passing                      19239 non-null  float64\n",
      " 24  dribbling                    19239 non-null  float64\n",
      " 25  defending                    19239 non-null  float64\n",
      " 26  physic                       19239 non-null  float64\n",
      " 27  attacking_crossing           19239 non-null  int64  \n",
      " 28  attacking_finishing          19239 non-null  int64  \n",
      " 29  attacking_heading_accuracy   19239 non-null  int64  \n",
      " 30  attacking_short_passing      19239 non-null  int64  \n",
      " 31  attacking_volleys            19239 non-null  int64  \n",
      " 32  skill_dribbling              19239 non-null  int64  \n",
      " 33  skill_curve                  19239 non-null  int64  \n",
      " 34  skill_fk_accuracy            19239 non-null  int64  \n",
      " 35  skill_long_passing           19239 non-null  int64  \n",
      " 36  skill_ball_control           19239 non-null  int64  \n",
      " 37  movement_acceleration        19239 non-null  int64  \n",
      " 38  movement_sprint_speed        19239 non-null  int64  \n",
      " 39  movement_agility             19239 non-null  int64  \n",
      " 40  movement_reactions           19239 non-null  int64  \n",
      " 41  movement_balance             19239 non-null  int64  \n",
      " 42  power_shot_power             19239 non-null  int64  \n",
      " 43  power_jumping                19239 non-null  int64  \n",
      " 44  power_stamina                19239 non-null  int64  \n",
      " 45  power_strength               19239 non-null  int64  \n",
      " 46  power_long_shots             19239 non-null  int64  \n",
      " 47  mentality_aggression         19239 non-null  int64  \n",
      " 48  mentality_interceptions      19239 non-null  int64  \n",
      " 49  mentality_positioning        19239 non-null  int64  \n",
      " 50  mentality_vision             19239 non-null  int64  \n",
      " 51  mentality_penalties          19239 non-null  int64  \n",
      " 52  mentality_composure          19239 non-null  int64  \n",
      " 53  defending_marking_awareness  19239 non-null  int64  \n",
      " 54  defending_standing_tackle    19239 non-null  int64  \n",
      " 55  defending_sliding_tackle     19239 non-null  int64  \n",
      " 56  goalkeeping_diving           19239 non-null  int64  \n",
      " 57  goalkeeping_handling         19239 non-null  int64  \n",
      " 58  goalkeeping_kicking          19239 non-null  int64  \n",
      " 59  goalkeeping_positioning      19239 non-null  int64  \n",
      " 60  goalkeeping_reflexes         19239 non-null  int64  \n",
      "dtypes: float64(8), int64(44), object(9)\n",
      "memory usage: 9.0+ MB\n"
     ]
    }
   ],
   "source": [
    "df.info()"
   ]
  },
  {
   "cell_type": "markdown",
   "metadata": {},
   "source": [
    "##### Encoding Categorical Variables: \n",
    "If your dataset contains categorical variables, they need to be converted into a numerical format. One common approach is one-hot encoding, where each category is transformed into a new binary column.\n",
    "\n",
    "###### Checking for Multicollinearity: \n",
    "Multicollinearity occurs when two or more independent variables are highly correlated with each other. This can be problematic in linear regression models. You can use correlation matrices or Variance Inflation Factor (VIF) to detect multicollinearity.\n",
    "\n",
    "###### Feature Scaling: \n",
    "Standardizing or normalizing the features so they're on the same scale. This is especially important if you're using regularization techniques in linear regression."
   ]
  },
  {
   "cell_type": "code",
   "execution_count": 59,
   "metadata": {},
   "outputs": [
    {
     "data": {
      "text/plain": [
       "array(['Unique', 'Normal (170-185)', 'Lean (170-185)', 'Normal (185+)',\n",
       "       'Lean (185+)', 'Normal (170-)', 'Stocky (185+)', 'Lean (170-)',\n",
       "       'Stocky (170-185)', 'Stocky (170-)'], dtype=object)"
      ]
     },
     "execution_count": 59,
     "metadata": {},
     "output_type": "execute_result"
    }
   ],
   "source": [
    "df['body_type'].unique()"
   ]
  },
  {
   "cell_type": "code",
   "execution_count": 63,
   "metadata": {},
   "outputs": [],
   "source": [
    "data = df\n",
    "data = data[['overall', 'value_eur', 'wage_eur', 'age', 'height_cm', 'weight_kg', 'nationality_id', 'preferred_foot', 'skill_moves',\n",
    "            'international_reputation', 'body_type','pace', 'shooting', 'passing', 'dribbling', 'defending', 'physic',\n",
    "            'attacking_crossing', 'attacking_finishing',\n",
    "       'attacking_heading_accuracy', 'attacking_short_passing',\n",
    "       'attacking_volleys', 'skill_dribbling', 'skill_curve',\n",
    "       'skill_fk_accuracy', 'skill_long_passing', 'skill_ball_control',\n",
    "       'movement_acceleration', 'movement_sprint_speed', 'movement_agility',\n",
    "       'movement_reactions', 'movement_balance', 'power_shot_power',\n",
    "       'power_jumping', 'power_stamina', 'power_strength', 'power_long_shots',\n",
    "       'mentality_aggression', 'mentality_interceptions',\n",
    "       'mentality_positioning', 'mentality_vision', 'mentality_penalties',\n",
    "       'mentality_composure', 'defending_marking_awareness',\n",
    "       'defending_standing_tackle', 'defending_sliding_tackle',\n",
    "       'goalkeeping_diving', 'goalkeeping_handling', 'goalkeeping_kicking',\n",
    "       'goalkeeping_positioning', 'goalkeeping_reflexes']]"
   ]
  },
  {
   "cell_type": "code",
   "execution_count": 64,
   "metadata": {},
   "outputs": [],
   "source": [
    "categorical_cols = data.select_dtypes(include=['object', 'category']).columns.tolist()\n",
    "numerical_cols = data.select_dtypes(include=['int64', 'float64']).columns.tolist()"
   ]
  },
  {
   "cell_type": "code",
   "execution_count": 65,
   "metadata": {},
   "outputs": [
    {
     "data": {
      "text/plain": [
       "['preferred_foot', 'body_type']"
      ]
     },
     "execution_count": 65,
     "metadata": {},
     "output_type": "execute_result"
    }
   ],
   "source": [
    "categorical_cols"
   ]
  },
  {
   "cell_type": "code",
   "execution_count": 67,
   "metadata": {},
   "outputs": [],
   "source": [
    "numerical_cols.remove('overall') "
   ]
  },
  {
   "cell_type": "code",
   "execution_count": 69,
   "metadata": {},
   "outputs": [],
   "source": [
    "# Handling categorical variables: One-Hot Encoding\n",
    "one_hot_encoder = OneHotEncoder()\n",
    "categorical_data = one_hot_encoder.fit_transform(data[categorical_cols])\n",
    "\n",
    "# Handling numerical variables: Scaling\n",
    "scaler = StandardScaler()\n",
    "numerical_data = scaler.fit_transform(data[numerical_cols])\n",
    "\n",
    "# Combine processed numerical and categorical data\n",
    "processed_data = pd.concat([pd.DataFrame(numerical_data, columns=numerical_cols), \n",
    "                            pd.DataFrame(categorical_data.toarray(), \n",
    "                            columns=one_hot_encoder.get_feature_names_out(categorical_cols))], axis=1)\n"
   ]
  },
  {
   "cell_type": "code",
   "execution_count": 72,
   "metadata": {},
   "outputs": [],
   "source": [
    "processed_data['overall'] = data['overall']"
   ]
  },
  {
   "cell_type": "code",
   "execution_count": 74,
   "metadata": {},
   "outputs": [],
   "source": [
    "processed_data.to_csv('cleaned_data.csv', index = False)"
   ]
  },
  {
   "cell_type": "code",
   "execution_count": 2,
   "metadata": {},
   "outputs": [],
   "source": [
    "reading = pd.read_csv('cleaned_data.csv')"
   ]
  },
  {
   "cell_type": "code",
   "execution_count": 3,
   "metadata": {},
   "outputs": [
    {
     "data": {
      "text/html": [
       "<div>\n",
       "<style scoped>\n",
       "    .dataframe tbody tr th:only-of-type {\n",
       "        vertical-align: middle;\n",
       "    }\n",
       "\n",
       "    .dataframe tbody tr th {\n",
       "        vertical-align: top;\n",
       "    }\n",
       "\n",
       "    .dataframe thead th {\n",
       "        text-align: right;\n",
       "    }\n",
       "</style>\n",
       "<table border=\"1\" class=\"dataframe\">\n",
       "  <thead>\n",
       "    <tr style=\"text-align: right;\">\n",
       "      <th></th>\n",
       "      <th>value_eur</th>\n",
       "      <th>wage_eur</th>\n",
       "      <th>age</th>\n",
       "      <th>height_cm</th>\n",
       "      <th>weight_kg</th>\n",
       "      <th>nationality_id</th>\n",
       "      <th>skill_moves</th>\n",
       "      <th>international_reputation</th>\n",
       "      <th>pace</th>\n",
       "      <th>shooting</th>\n",
       "      <th>...</th>\n",
       "      <th>body_type_Lean (170-185)</th>\n",
       "      <th>body_type_Lean (185+)</th>\n",
       "      <th>body_type_Normal (170-)</th>\n",
       "      <th>body_type_Normal (170-185)</th>\n",
       "      <th>body_type_Normal (185+)</th>\n",
       "      <th>body_type_Stocky (170-)</th>\n",
       "      <th>body_type_Stocky (170-185)</th>\n",
       "      <th>body_type_Stocky (185+)</th>\n",
       "      <th>body_type_Unique</th>\n",
       "      <th>overall</th>\n",
       "    </tr>\n",
       "  </thead>\n",
       "  <tbody>\n",
       "    <tr>\n",
       "      <th>0</th>\n",
       "      <td>9.889601</td>\n",
       "      <td>15.998022</td>\n",
       "      <td>1.851089</td>\n",
       "      <td>-1.646467</td>\n",
       "      <td>-0.416315</td>\n",
       "      <td>-0.131273</td>\n",
       "      <td>2.146241</td>\n",
       "      <td>10.525295</td>\n",
       "      <td>1.628331</td>\n",
       "      <td>2.992852</td>\n",
       "      <td>...</td>\n",
       "      <td>0.0</td>\n",
       "      <td>0.0</td>\n",
       "      <td>0.0</td>\n",
       "      <td>0.0</td>\n",
       "      <td>0.0</td>\n",
       "      <td>0.0</td>\n",
       "      <td>0.0</td>\n",
       "      <td>0.0</td>\n",
       "      <td>1.0</td>\n",
       "      <td>93</td>\n",
       "    </tr>\n",
       "    <tr>\n",
       "      <th>1</th>\n",
       "      <td>15.350958</td>\n",
       "      <td>13.425844</td>\n",
       "      <td>1.429869</td>\n",
       "      <td>0.539166</td>\n",
       "      <td>0.856805</td>\n",
       "      <td>-0.429500</td>\n",
       "      <td>2.146241</td>\n",
       "      <td>10.525295</td>\n",
       "      <td>0.949332</td>\n",
       "      <td>2.992852</td>\n",
       "      <td>...</td>\n",
       "      <td>0.0</td>\n",
       "      <td>0.0</td>\n",
       "      <td>0.0</td>\n",
       "      <td>0.0</td>\n",
       "      <td>0.0</td>\n",
       "      <td>0.0</td>\n",
       "      <td>0.0</td>\n",
       "      <td>0.0</td>\n",
       "      <td>1.0</td>\n",
       "      <td>92</td>\n",
       "    </tr>\n",
       "    <tr>\n",
       "      <th>2</th>\n",
       "      <td>5.546836</td>\n",
       "      <td>13.425844</td>\n",
       "      <td>2.272309</td>\n",
       "      <td>0.830584</td>\n",
       "      <td>1.139720</td>\n",
       "      <td>-0.409618</td>\n",
       "      <td>3.448937</td>\n",
       "      <td>10.525295</td>\n",
       "      <td>1.822331</td>\n",
       "      <td>3.143798</td>\n",
       "      <td>...</td>\n",
       "      <td>0.0</td>\n",
       "      <td>0.0</td>\n",
       "      <td>0.0</td>\n",
       "      <td>0.0</td>\n",
       "      <td>0.0</td>\n",
       "      <td>0.0</td>\n",
       "      <td>0.0</td>\n",
       "      <td>0.0</td>\n",
       "      <td>1.0</td>\n",
       "      <td>91</td>\n",
       "    </tr>\n",
       "    <tr>\n",
       "      <th>3</th>\n",
       "      <td>16.601147</td>\n",
       "      <td>13.425844</td>\n",
       "      <td>0.798039</td>\n",
       "      <td>-0.917923</td>\n",
       "      <td>-0.982145</td>\n",
       "      <td>-0.091510</td>\n",
       "      <td>3.448937</td>\n",
       "      <td>10.525295</td>\n",
       "      <td>2.210331</td>\n",
       "      <td>2.313597</td>\n",
       "      <td>...</td>\n",
       "      <td>0.0</td>\n",
       "      <td>0.0</td>\n",
       "      <td>0.0</td>\n",
       "      <td>0.0</td>\n",
       "      <td>0.0</td>\n",
       "      <td>0.0</td>\n",
       "      <td>0.0</td>\n",
       "      <td>0.0</td>\n",
       "      <td>1.0</td>\n",
       "      <td>91</td>\n",
       "    </tr>\n",
       "    <tr>\n",
       "      <th>4</th>\n",
       "      <td>16.140551</td>\n",
       "      <td>17.541329</td>\n",
       "      <td>1.008649</td>\n",
       "      <td>-0.043669</td>\n",
       "      <td>-0.699230</td>\n",
       "      <td>-1.025953</td>\n",
       "      <td>2.146241</td>\n",
       "      <td>7.830520</td>\n",
       "      <td>0.755332</td>\n",
       "      <td>2.540015</td>\n",
       "      <td>...</td>\n",
       "      <td>0.0</td>\n",
       "      <td>0.0</td>\n",
       "      <td>0.0</td>\n",
       "      <td>0.0</td>\n",
       "      <td>0.0</td>\n",
       "      <td>0.0</td>\n",
       "      <td>0.0</td>\n",
       "      <td>0.0</td>\n",
       "      <td>1.0</td>\n",
       "      <td>91</td>\n",
       "    </tr>\n",
       "  </tbody>\n",
       "</table>\n",
       "<p>5 rows × 61 columns</p>\n",
       "</div>"
      ],
      "text/plain": [
       "   value_eur   wage_eur       age  height_cm  weight_kg  nationality_id   \n",
       "0   9.889601  15.998022  1.851089  -1.646467  -0.416315       -0.131273  \\\n",
       "1  15.350958  13.425844  1.429869   0.539166   0.856805       -0.429500   \n",
       "2   5.546836  13.425844  2.272309   0.830584   1.139720       -0.409618   \n",
       "3  16.601147  13.425844  0.798039  -0.917923  -0.982145       -0.091510   \n",
       "4  16.140551  17.541329  1.008649  -0.043669  -0.699230       -1.025953   \n",
       "\n",
       "   skill_moves  international_reputation      pace  shooting  ...   \n",
       "0     2.146241                 10.525295  1.628331  2.992852  ...  \\\n",
       "1     2.146241                 10.525295  0.949332  2.992852  ...   \n",
       "2     3.448937                 10.525295  1.822331  3.143798  ...   \n",
       "3     3.448937                 10.525295  2.210331  2.313597  ...   \n",
       "4     2.146241                  7.830520  0.755332  2.540015  ...   \n",
       "\n",
       "   body_type_Lean (170-185)  body_type_Lean (185+)  body_type_Normal (170-)   \n",
       "0                       0.0                    0.0                      0.0  \\\n",
       "1                       0.0                    0.0                      0.0   \n",
       "2                       0.0                    0.0                      0.0   \n",
       "3                       0.0                    0.0                      0.0   \n",
       "4                       0.0                    0.0                      0.0   \n",
       "\n",
       "   body_type_Normal (170-185)  body_type_Normal (185+)   \n",
       "0                         0.0                      0.0  \\\n",
       "1                         0.0                      0.0   \n",
       "2                         0.0                      0.0   \n",
       "3                         0.0                      0.0   \n",
       "4                         0.0                      0.0   \n",
       "\n",
       "   body_type_Stocky (170-)  body_type_Stocky (170-185)   \n",
       "0                      0.0                         0.0  \\\n",
       "1                      0.0                         0.0   \n",
       "2                      0.0                         0.0   \n",
       "3                      0.0                         0.0   \n",
       "4                      0.0                         0.0   \n",
       "\n",
       "   body_type_Stocky (185+)  body_type_Unique  overall  \n",
       "0                      0.0               1.0       93  \n",
       "1                      0.0               1.0       92  \n",
       "2                      0.0               1.0       91  \n",
       "3                      0.0               1.0       91  \n",
       "4                      0.0               1.0       91  \n",
       "\n",
       "[5 rows x 61 columns]"
      ]
     },
     "execution_count": 3,
     "metadata": {},
     "output_type": "execute_result"
    }
   ],
   "source": [
    "reading.head()"
   ]
  },
  {
   "cell_type": "code",
   "execution_count": null,
   "metadata": {},
   "outputs": [],
   "source": []
  }
 ],
 "metadata": {
  "kernelspec": {
   "display_name": "Python 3",
   "language": "python",
   "name": "python3"
  },
  "language_info": {
   "codemirror_mode": {
    "name": "ipython",
    "version": 3
   },
   "file_extension": ".py",
   "mimetype": "text/x-python",
   "name": "python",
   "nbconvert_exporter": "python",
   "pygments_lexer": "ipython3",
   "version": "3.8.5"
  }
 },
 "nbformat": 4,
 "nbformat_minor": 4
}
